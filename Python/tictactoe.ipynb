{
 "cells": [
  {
   "cell_type": "code",
   "execution_count": 8,
   "id": "853334aa-8e8e-49af-948f-3d643a20d815",
   "metadata": {},
   "outputs": [
    {
     "name": "stdout",
     "output_type": "stream",
     "text": [
      "[1, 2, 3]\n",
      "[4, 5, 6]\n",
      "[7, 8, 9]\n"
     ]
    },
    {
     "name": "stdin",
     "output_type": "stream",
     "text": [
      "Enter a position value for X:  1\n"
     ]
    },
    {
     "name": "stdout",
     "output_type": "stream",
     "text": [
      "#####################################\n",
      "[1,2,3]    X| | \n",
      "[4,5,6]     | | \n",
      "[7,8,9]     | | \n"
     ]
    },
    {
     "name": "stdin",
     "output_type": "stream",
     "text": [
      "Enter a position value for O:  3\n"
     ]
    },
    {
     "name": "stdout",
     "output_type": "stream",
     "text": [
      "#####################################\n",
      "[1,2,3]    X| |O\n",
      "[4,5,6]     | | \n",
      "[7,8,9]     | | \n"
     ]
    },
    {
     "name": "stdin",
     "output_type": "stream",
     "text": [
      "Enter a position value for X:  5\n"
     ]
    },
    {
     "name": "stdout",
     "output_type": "stream",
     "text": [
      "#####################################\n",
      "[1,2,3]    X| |O\n",
      "[4,5,6]     |X| \n",
      "[7,8,9]     | | \n"
     ]
    },
    {
     "name": "stdin",
     "output_type": "stream",
     "text": [
      "Enter a position value for O:  2\n"
     ]
    },
    {
     "name": "stdout",
     "output_type": "stream",
     "text": [
      "#####################################\n",
      "[1,2,3]    X|O|O\n",
      "[4,5,6]     |X| \n",
      "[7,8,9]     | | \n"
     ]
    },
    {
     "name": "stdin",
     "output_type": "stream",
     "text": [
      "Enter a position value for X:  4\n"
     ]
    },
    {
     "name": "stdout",
     "output_type": "stream",
     "text": [
      "#####################################\n",
      "[1,2,3]    X|O|O\n",
      "[4,5,6]    X|X| \n",
      "[7,8,9]     | | \n"
     ]
    },
    {
     "name": "stdin",
     "output_type": "stream",
     "text": [
      "Enter a position value for O:  9\n"
     ]
    },
    {
     "name": "stdout",
     "output_type": "stream",
     "text": [
      "#####################################\n",
      "[1,2,3]    X|O|O\n",
      "[4,5,6]    X|X| \n",
      "[7,8,9]     | |O\n"
     ]
    },
    {
     "name": "stdin",
     "output_type": "stream",
     "text": [
      "Enter a position value for X:  8\n"
     ]
    },
    {
     "name": "stdout",
     "output_type": "stream",
     "text": [
      "#####################################\n",
      "[1,2,3]    X|O|O\n",
      "[4,5,6]    X|X| \n",
      "[7,8,9]     |X|O\n"
     ]
    },
    {
     "name": "stdin",
     "output_type": "stream",
     "text": [
      "Enter a position value for O:  7\n"
     ]
    },
    {
     "name": "stdout",
     "output_type": "stream",
     "text": [
      "#####################################\n",
      "[1,2,3]    X|O|O\n",
      "[4,5,6]    X|X|X\n",
      "[7,8,9]    O|X|O\n",
      "X won!\n"
     ]
    }
   ],
   "source": [
    "##### import os\n",
    "\n",
    "def clear_output():\n",
    "    os.system('cls' if os.name == 'nt' else 'clear')\n",
    "    \n",
    "print ([1,2,3])\n",
    "print ([4,5,6])\n",
    "print ([7,8,9])\n",
    "\n",
    "x_o_input = 'X'\n",
    "result = 0\n",
    "no_result = -1\n",
    "element_count = 0\n",
    "last_index = 0\n",
    "iter = 0\n",
    "result_out = ''\n",
    "\n",
    "row1 = [' ',' ',' ']\n",
    "row2 = [' ',' ',' ']\n",
    "row3 = [' ',' ',' ']\n",
    "complete_row = row1+row2+row3\n",
    "\n",
    "while (result != 1 or no_result == 0):   \n",
    "    iter = iter + 1\n",
    "    \n",
    "    if ((iter%2) == 0):\n",
    "        x_o_input = 'O'\n",
    "    else:\n",
    "        x_o_input = 'X'\n",
    "\n",
    "    while True:\n",
    "        try:\n",
    "            input_val = int(input('Enter a position value for {}: '.format(x_o_input))) \n",
    "            if (input_val not in range(1, 10) or (row1+row2+row3)[input_val-1] != ' '):\n",
    "                print ('Invalid input. Try again!')\n",
    "                continue\n",
    "        except:\n",
    "            print ('Invalid input. Try again.')\n",
    "            continue\n",
    "        else:\n",
    "            input_val = input_val - 1\n",
    "            break            \n",
    "    print('#####################################')\n",
    "    if (input_val == 0 or  input_val == 1 or input_val == 2 ):\n",
    "        row1[input_val] = x_o_input\n",
    "    elif (input_val == 3 or  input_val == 4 or input_val == 5 ):\n",
    "        input_val = (input_val%3)\n",
    "        row2[input_val] = x_o_input\n",
    "    elif (input_val == 6 or  input_val == 7 or input_val == 8 ):\n",
    "        input_val = (input_val%3)\n",
    "        row3[input_val] = x_o_input\n",
    "\n",
    "    element_count = (row1+row2+row3).count(' ')\n",
    "    \n",
    "    if (element_count == 1):\n",
    "        if (x_o_input == 'X'):\n",
    "            x_o_input = 'O'\n",
    "        elif (x_o_input == 'O'):\n",
    "            x_o_input = 'X'\n",
    "        input_val = input_val + 1\n",
    "\n",
    "        last_index = (row1+row2+row3).index(' ')\n",
    "\n",
    "        last_row = int(last_index/3)\n",
    "        last_index_position = (last_index%3)\n",
    "\n",
    "        if (last_row == 0 ):\n",
    "            row1[last_index_position] = x_o_input\n",
    "        elif (last_row == 1):\n",
    "            input_val = (input_val%3)\n",
    "            row2[last_index_position] = x_o_input\n",
    "        elif (last_row == 2):\n",
    "            input_val = (input_val%3)\n",
    "            row3[last_index_position] = x_o_input\n",
    "\n",
    "    clear_output()\n",
    "    print ('[1,2,3]'+'    '+row1[0]+'|'+row1[1]+'|'+row1[2])\n",
    "    print ('[4,5,6]'+'    '+row2[0]+'|'+row2[1]+'|'+row2[2])\n",
    "    print ('[7,8,9]'+'    '+row3[0]+'|'+row3[1]+'|'+row3[2])\n",
    "    \n",
    "    if ((row1[0].replace(' ','1') == row1[1].replace(' ','2') == row1[2].replace(' ','3')) or \n",
    "        (row2[0].replace(' ','4') == row2[1].replace(' ','5') == row2[2].replace(' ','6')) or\n",
    "        (row3[0].replace(' ','7') == row3[1].replace(' ','8') == row3[2].replace(' ','9')) or\n",
    "        (row1[0].replace(' ','1') == row2[1].replace(' ','5') == row3[2].replace(' ','9')) or\n",
    "        (row1[2].replace(' ','3') == row2[1].replace(' ','5') == row3[0].replace(' ','7')) or\n",
    "        (row1[0].replace(' ','1') == row2[0].replace(' ','4') == row3[0].replace(' ','7')) or\n",
    "        (row1[1].replace(' ','2') == row2[1].replace(' ','5') == row3[1].replace(' ','8')) or\n",
    "        (row1[2].replace(' ','3') == row2[2].replace(' ','6') == row3[2].replace(' ','9'))\n",
    "       ):\n",
    "        result = 1\n",
    "        #print ('{} won!'.format(x_o_input))\n",
    "        #break\n",
    "        result_out = x_o_input\n",
    "    if (element_count == 1 and result == 0):\n",
    "        result = 1\n",
    "        result_out = 'no_result'\n",
    "        #print ('No result!')\n",
    "        #break\n",
    "\n",
    "    if (element_count == 1):\n",
    "        break\n",
    "\n",
    "if (result_out == 'no_result'):\n",
    "    print ('No Result!')\n",
    "else: \n",
    "    print ('{} won!'.format(result_out))\n",
    "    "
   ]
  },
  {
   "cell_type": "code",
   "execution_count": 19,
   "id": "fd0b5551-82d5-4b22-a275-bb7fa94c853c",
   "metadata": {},
   "outputs": [],
   "source": [
    "def my_function():\n",
    "    for i in range(1,21):\n",
    "        print(i)\n",
    "        if i == 20:\n",
    "            print(\"you got it\")"
   ]
  },
  {
   "cell_type": "code",
   "execution_count": 35,
   "id": "b8d89cda-a089-4b06-bb78-92aa3605d932",
   "metadata": {},
   "outputs": [
    {
     "name": "stdout",
     "output_type": "stream",
     "text": [
      "3\n"
     ]
    }
   ],
   "source": [
    "print(int(7/2))"
   ]
  },
  {
   "cell_type": "code",
   "execution_count": null,
   "id": "ada12acf-696c-49bc-be2a-9eacc356c71f",
   "metadata": {},
   "outputs": [],
   "source": []
  }
 ],
 "metadata": {
  "kernelspec": {
   "display_name": "Python 3 (ipykernel)",
   "language": "python",
   "name": "python3"
  },
  "language_info": {
   "codemirror_mode": {
    "name": "ipython",
    "version": 3
   },
   "file_extension": ".py",
   "mimetype": "text/x-python",
   "name": "python",
   "nbconvert_exporter": "python",
   "pygments_lexer": "ipython3",
   "version": "3.12.4"
  }
 },
 "nbformat": 4,
 "nbformat_minor": 5
}
